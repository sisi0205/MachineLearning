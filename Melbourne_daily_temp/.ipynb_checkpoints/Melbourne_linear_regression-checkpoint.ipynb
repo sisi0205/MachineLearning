{
 "cells": [
  {
   "cell_type": "code",
   "execution_count": 1,
   "metadata": {},
   "outputs": [
    {
     "name": "stdout",
     "output_type": "stream",
     "text": [
      "data  Melbourne_daily_temp.ipynb  Melbourne_linear_regression.ipynb\n"
     ]
    }
   ],
   "source": [
    "!ls"
   ]
  },
  {
   "cell_type": "code",
   "execution_count": 2,
   "metadata": {},
   "outputs": [],
   "source": [
    "import pandas as pd\n",
    "import matplotlib.pyplot as plt\n",
    "import seaborn as sns\n",
    "%matplotlib inline\n",
    "# from pandas.plotting import autocorrelation_plot \n",
    "import numpy as np"
   ]
  },
  {
   "cell_type": "code",
   "execution_count": 3,
   "metadata": {},
   "outputs": [],
   "source": [
    "from sklearn.model_selection import train_test_split\n",
    "from sklearn.linear_model import LinearRegression\n"
   ]
  },
  {
   "cell_type": "code",
   "execution_count": 10,
   "metadata": {},
   "outputs": [],
   "source": [
    "x_train = pd.read_csv('data/x_train.csv')\n",
    "y_train = pd.read_csv('data/y_train.csv')"
   ]
  },
  {
   "cell_type": "code",
   "execution_count": 11,
   "metadata": {},
   "outputs": [
    {
     "data": {
      "text/html": [
       "<div>\n",
       "<style scoped>\n",
       "    .dataframe tbody tr th:only-of-type {\n",
       "        vertical-align: middle;\n",
       "    }\n",
       "\n",
       "    .dataframe tbody tr th {\n",
       "        vertical-align: top;\n",
       "    }\n",
       "\n",
       "    .dataframe thead th {\n",
       "        text-align: right;\n",
       "    }\n",
       "</style>\n",
       "<table border=\"1\" class=\"dataframe\">\n",
       "  <thead>\n",
       "    <tr style=\"text-align: right;\">\n",
       "      <th></th>\n",
       "      <th>Temp</th>\n",
       "    </tr>\n",
       "  </thead>\n",
       "  <tbody>\n",
       "    <tr>\n",
       "      <th>0</th>\n",
       "      <td>17.1</td>\n",
       "    </tr>\n",
       "    <tr>\n",
       "      <th>1</th>\n",
       "      <td>7.9</td>\n",
       "    </tr>\n",
       "    <tr>\n",
       "      <th>2</th>\n",
       "      <td>4.9</td>\n",
       "    </tr>\n",
       "    <tr>\n",
       "      <th>3</th>\n",
       "      <td>15.4</td>\n",
       "    </tr>\n",
       "    <tr>\n",
       "      <th>4</th>\n",
       "      <td>13.6</td>\n",
       "    </tr>\n",
       "    <tr>\n",
       "      <th>...</th>\n",
       "      <td>...</td>\n",
       "    </tr>\n",
       "    <tr>\n",
       "      <th>2912</th>\n",
       "      <td>8.4</td>\n",
       "    </tr>\n",
       "    <tr>\n",
       "      <th>2913</th>\n",
       "      <td>3.9</td>\n",
       "    </tr>\n",
       "    <tr>\n",
       "      <th>2914</th>\n",
       "      <td>12.0</td>\n",
       "    </tr>\n",
       "    <tr>\n",
       "      <th>2915</th>\n",
       "      <td>6.6</td>\n",
       "    </tr>\n",
       "    <tr>\n",
       "      <th>2916</th>\n",
       "      <td>17.6</td>\n",
       "    </tr>\n",
       "  </tbody>\n",
       "</table>\n",
       "<p>2917 rows × 1 columns</p>\n",
       "</div>"
      ],
      "text/plain": [
       "      Temp\n",
       "0     17.1\n",
       "1      7.9\n",
       "2      4.9\n",
       "3     15.4\n",
       "4     13.6\n",
       "...    ...\n",
       "2912   8.4\n",
       "2913   3.9\n",
       "2914  12.0\n",
       "2915   6.6\n",
       "2916  17.6\n",
       "\n",
       "[2917 rows x 1 columns]"
      ]
     },
     "execution_count": 11,
     "metadata": {},
     "output_type": "execute_result"
    }
   ],
   "source": [
    "y_train"
   ]
  },
  {
   "cell_type": "code",
   "execution_count": 12,
   "metadata": {},
   "outputs": [
    {
     "data": {
      "text/plain": [
       "LinearRegression()"
      ]
     },
     "execution_count": 12,
     "metadata": {},
     "output_type": "execute_result"
    }
   ],
   "source": [
    "lr = LinearRegression()\n",
    "lr.fit(x_train, y_train)"
   ]
  },
  {
   "cell_type": "code",
   "execution_count": 13,
   "metadata": {},
   "outputs": [
    {
     "name": "stdout",
     "output_type": "stream",
     "text": [
      "intercept [-4.86170138e+13]\n",
      "slop [[-5.44124441e+12 -9.50798519e+13 -1.84009423e+13  3.84539843e+12\n",
      "   2.97828674e-01 -6.24953682e+13 -6.24953682e+13 -6.24953682e+13\n",
      "  -6.24953682e+13 -6.24953682e+13 -6.24953682e+13 -6.24953682e+13\n",
      "  -6.24953682e+13 -6.24953682e+13 -6.24953682e+13  7.52610640e+13\n",
      "   7.52610640e+13  7.52610640e+13  7.52610640e+13  7.52610640e+13\n",
      "   7.52610640e+13  7.52610640e+13  7.52610640e+13  7.52610640e+13\n",
      "   7.52610640e+13  7.52610640e+13  7.52610640e+13 -8.10787642e+12\n",
      "  -8.10787642e+12 -8.10787642e+12 -8.10787642e+12 -8.10787642e+12\n",
      "   9.24132199e+13  1.57343103e+13  5.56068421e+13  5.56068421e+13\n",
      "   5.56068421e+13  5.56068421e+13  5.56068421e+13  5.56068421e+13\n",
      "   5.56068421e+13 -1.19593261e+14 -1.19593261e+14 -1.19593261e+14\n",
      "  -1.74011291e+13 -1.74011291e+13 -1.74011291e+13 -1.74011291e+13\n",
      "  -5.46543758e+12 -9.31083600e+12 -9.31083600e+12 -9.31083600e+12\n",
      "  -9.31083600e+12 -9.31083600e+12 -1.21267299e+14  1.01257343e+13\n",
      "   1.01257343e+13  1.01257343e+13  1.01257343e+13  1.01257343e+13\n",
      "   1.01257343e+13  1.01257343e+13  1.01257343e+13  1.01257343e+13\n",
      "   1.01257343e+13  1.08123075e+14  5.93094255e+12  1.17887405e+14\n",
      "  -1.23616121e+14  5.15839826e+13  3.96482910e+13 -9.17447419e+13]]\n"
     ]
    }
   ],
   "source": [
    "print('intercept', lr.intercept_)\n",
    "print('slop', lr.coef_)"
   ]
  },
  {
   "cell_type": "code",
   "execution_count": null,
   "metadata": {},
   "outputs": [],
   "source": []
  }
 ],
 "metadata": {
  "kernelspec": {
   "display_name": "ML py3.y",
   "language": "python",
   "name": "ml3.6"
  },
  "language_info": {
   "codemirror_mode": {
    "name": "ipython",
    "version": 3
   },
   "file_extension": ".py",
   "mimetype": "text/x-python",
   "name": "python",
   "nbconvert_exporter": "python",
   "pygments_lexer": "ipython3",
   "version": "3.6.10"
  }
 },
 "nbformat": 4,
 "nbformat_minor": 4
}
